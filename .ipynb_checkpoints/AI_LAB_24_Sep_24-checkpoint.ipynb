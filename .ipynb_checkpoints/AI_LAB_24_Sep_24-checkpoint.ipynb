{
 "cells": [
  {
   "cell_type": "markdown",
   "id": "bf835dc5-2e3e-4b55-a682-4cccb5b6fde1",
   "metadata": {},
   "source": [
    "#Write a Python program using NLTK to tokenize a sentence, filter out stopwords, and apply stemming ?"
   ]
  },
  {
   "cell_type": "code",
   "execution_count": 1,
   "id": "eddb8e1b-a100-409c-83da-d08e17702ccd",
   "metadata": {},
   "outputs": [],
   "source": [
    "import nltk\n",
    "from nltk.tokenize import word_tokenize\n",
    "from nltk.corpus import stopwords\n",
    "from nltk.stem import PorterStemmer"
   ]
  },
  {
   "cell_type": "code",
   "execution_count": 2,
   "id": "43fff29c-68c7-4dc2-88b6-63bab4408c23",
   "metadata": {},
   "outputs": [
    {
     "name": "stderr",
     "output_type": "stream",
     "text": [
      "[nltk_data] Downloading package punkt to\n",
      "[nltk_data]     C:\\Users\\manas\\AppData\\Roaming\\nltk_data...\n",
      "[nltk_data]   Package punkt is already up-to-date!\n",
      "[nltk_data] Downloading package stopwords to\n",
      "[nltk_data]     C:\\Users\\manas\\AppData\\Roaming\\nltk_data...\n",
      "[nltk_data]   Package stopwords is already up-to-date!\n"
     ]
    },
    {
     "data": {
      "text/plain": [
       "True"
      ]
     },
     "execution_count": 2,
     "metadata": {},
     "output_type": "execute_result"
    }
   ],
   "source": [
    "nltk.download('punkt')\n",
    "nltk.download('stopwords')"
   ]
  },
  {
   "cell_type": "code",
   "execution_count": 3,
   "id": "3f34b912-d0b8-4fea-bc44-85919e909204",
   "metadata": {},
   "outputs": [],
   "source": [
    "stop_words = set(stopwords.words('english'))\n",
    "stemmer = PorterStemmer()"
   ]
  },
  {
   "cell_type": "code",
   "execution_count": 4,
   "id": "fa709c8a-eb41-49f1-894f-8370c6eb2a4a",
   "metadata": {},
   "outputs": [],
   "source": [
    "sentence = \"This is an example sentence, my name is Manas Kumar Manna I am a student of NIT Hamirpur.\""
   ]
  },
  {
   "cell_type": "code",
   "execution_count": 5,
   "id": "96fe96f6-db81-46d2-bb23-4ff46f7ec227",
   "metadata": {},
   "outputs": [
    {
     "name": "stdout",
     "output_type": "stream",
     "text": [
      "Tokens: ['This', 'is', 'an', 'example', 'sentence', ',', 'my', 'name', 'is', 'Manas', 'Kumar', 'Manna', 'I', 'am', 'a', 'student', 'of', 'NIT', 'Hamirpur', '.']\n"
     ]
    }
   ],
   "source": [
    "tokens = word_tokenize(sentence)\n",
    "print(\"Tokens:\", tokens)"
   ]
  },
  {
   "cell_type": "code",
   "execution_count": 6,
   "id": "f0737bc1-c1c7-4620-a4ef-423cb3087025",
   "metadata": {},
   "outputs": [
    {
     "name": "stdout",
     "output_type": "stream",
     "text": [
      "Filtered Tokens: ['example', 'sentence', ',', 'name', 'Manas', 'Kumar', 'Manna', 'student', 'NIT', 'Hamirpur', '.']\n"
     ]
    }
   ],
   "source": [
    "filtered_tokens = [word for word in tokens if word.lower() not in stop_words]\n",
    "print(\"Filtered Tokens:\", filtered_tokens)"
   ]
  },
  {
   "cell_type": "code",
   "execution_count": 7,
   "id": "6a3c143a-9762-47f4-bf61-8cf4551805f5",
   "metadata": {},
   "outputs": [
    {
     "name": "stdout",
     "output_type": "stream",
     "text": [
      "Stemmed Tokens: ['exampl', 'sentenc', ',', 'name', 'mana', 'kumar', 'manna', 'student', 'nit', 'hamirpur', '.']\n"
     ]
    }
   ],
   "source": [
    "stemmed_tokens = [stemmer.stem(word) for word in filtered_tokens]\n",
    "print(\"Stemmed Tokens:\", stemmed_tokens)"
   ]
  },
  {
   "cell_type": "code",
   "execution_count": null,
   "id": "d924fdd2-4540-4796-ba39-721c83b530eb",
   "metadata": {},
   "outputs": [],
   "source": []
  },
  {
   "cell_type": "code",
   "execution_count": null,
   "id": "cb794f99-adfe-40c2-9c07-e6b25a936228",
   "metadata": {},
   "outputs": [],
   "source": []
  }
 ],
 "metadata": {
  "kernelspec": {
   "display_name": "Python 3 (ipykernel)",
   "language": "python",
   "name": "python3"
  },
  "language_info": {
   "codemirror_mode": {
    "name": "ipython",
    "version": 3
   },
   "file_extension": ".py",
   "mimetype": "text/x-python",
   "name": "python",
   "nbconvert_exporter": "python",
   "pygments_lexer": "ipython3",
   "version": "3.8.10"
  },
  "widgets": {
   "application/vnd.jupyter.widget-state+json": {
    "state": {},
    "version_major": 2,
    "version_minor": 0
   }
  }
 },
 "nbformat": 4,
 "nbformat_minor": 5
}
