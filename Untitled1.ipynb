{
 "cells": [
  {
   "cell_type": "code",
   "execution_count": 1,
   "id": "667013e2-f1c9-4077-a656-786801547bf7",
   "metadata": {},
   "outputs": [],
   "source": [
    "import numpy as np\n",
    "import pandas as pd\n",
    "\n",
    "# Sigmoid activation function\n",
    "def sigmoid(x):\n",
    "    return 1 / (1 + np.exp(-x))\n",
    "\n",
    "# Derivative of sigmoid function\n",
    "def sigmoid_derivative(x):\n",
    "    return x * (1 - x)\n",
    "\n",
    "# Loss function (Mean Squared Error)\n",
    "def mse(y_true, y_pred):\n",
    "    return np.mean((y_true - y_pred) ** 2)\n"
   ]
  },
  {
   "cell_type": "code",
   "execution_count": 12,
   "id": "b3e4e893-c1eb-4851-88cb-09f3c99b6025",
   "metadata": {},
   "outputs": [],
   "source": [
    "# Load dataset\n",
    "data = pd.read_csv('Xor_Dataset.csv')\n",
    "\n",
    "X = data[['X', 'Y']].values\n",
    "Y = data[['Z']].values\n",
    "X = X / np.max(X)\n",
    "Y = Y / np.max(Y)"
   ]
  },
  {
   "cell_type": "code",
   "execution_count": 13,
   "id": "4d2aa001-b836-4f0d-9bfc-c7a0f976ebb9",
   "metadata": {},
   "outputs": [],
   "source": [
    "np.random.seed(42)\n",
    "input_layer_neurons = X.shape[1]\n",
    "hidden_layer_neurons = 2\n",
    "output_neuron = 1\n",
    "\n",
    "weights_input_hidden = np.random.uniform(low=-0.5, high=0.5, size=(input_layer_neurons, hidden_layer_neurons))\n",
    "bias_hidden = np.random.uniform(low=-0.5, high=0.5, size=(1, hidden_layer_neurons))\n",
    "weights_hidden_output = np.random.uniform(low=-0.5, high=0.5, size=(hidden_layer_neurons, output_neuron))\n",
    "bias_output = np.random.uniform(low=-0.5, high=0.5, size=(1, output_neuron))\n"
   ]
  },
  {
   "cell_type": "code",
   "execution_count": 14,
   "id": "8bdb8504-d661-4f2a-9eee-5f3b5b823b50",
   "metadata": {},
   "outputs": [
    {
     "name": "stdout",
     "output_type": "stream",
     "text": [
      "Epoch 0, Loss: 0.2503887819967493\n",
      "Epoch 10, Loss: 0.5048\n",
      "Epoch 20, Loss: 0.5048\n",
      "Epoch 30, Loss: 0.5048\n",
      "Epoch 40, Loss: 0.5048\n",
      "Epoch 50, Loss: 0.5048\n",
      "Epoch 60, Loss: 0.5048\n",
      "Epoch 70, Loss: 0.5048\n",
      "Epoch 80, Loss: 0.5048\n",
      "Epoch 90, Loss: 0.5048\n"
     ]
    }
   ],
   "source": [
    "epochs = 100\n",
    "learning_rate = 0.1\n",
    "\n",
    "for epoch in range(epochs):\n",
    "    # Forward Propagation\n",
    "    hidden_layer_activation = np.dot(X, weights_input_hidden) + bias_hidden\n",
    "    hidden_layer_output = sigmoid(hidden_layer_activation)\n",
    "\n",
    "    output_layer_activation = np.dot(hidden_layer_output, weights_hidden_output) + bias_output\n",
    "    predicted_output = sigmoid(output_layer_activation)\n",
    "\n",
    "    # Calculate error\n",
    "    error = Y - predicted_output\n",
    "    if epoch % 10 == 0:\n",
    "        print(f'Epoch {epoch}, Loss: {mse(Y, predicted_output)}')\n",
    "\n",
    "    # Backpropagation\n",
    "    d_predicted_output = error * sigmoid_derivative(predicted_output)\n",
    "\n",
    "    error_hidden_layer = d_predicted_output.dot(weights_hidden_output.T)\n",
    "    d_hidden_layer = error_hidden_layer * sigmoid_derivative(hidden_layer_output)\n",
    "\n",
    "    # Update weights and biases\n",
    "    weights_hidden_output += hidden_layer_output.T.dot(d_predicted_output) * learning_rate\n",
    "    bias_output += np.sum(d_predicted_output, axis=0, keepdims=True) * learning_rate\n",
    "\n",
    "    weights_input_hidden += X.T.dot(d_hidden_layer) * learning_rate\n",
    "    bias_hidden += np.sum(d_hidden_layer, axis=0, keepdims=True) * learning_rate\n",
    "\n",
    "# Denormalize outputs for interpretation\n",
    "predicted_output = predicted_output * np.max(Y)"
   ]
  },
  {
   "cell_type": "code",
   "execution_count": 15,
   "id": "7ba8bbc0-1d6d-454c-9518-e23674c4ae32",
   "metadata": {},
   "outputs": [
    {
     "name": "stdout",
     "output_type": "stream",
     "text": [
      "Predicted outputs after training:\n",
      "[[9.70449743e-21]\n",
      " [1.37616830e-20]\n",
      " [1.60160425e-20]\n",
      " ...\n",
      " [1.60160425e-20]\n",
      " [1.60160425e-20]\n",
      " [1.60160425e-20]]\n"
     ]
    }
   ],
   "source": [
    "# Final outputs after training\n",
    "print(\"Predicted outputs after training:\")\n",
    "print(predicted_output)\n"
   ]
  },
  {
   "cell_type": "code",
   "execution_count": null,
   "id": "2bd2460c-a37e-44c1-bc4b-8392024fd80c",
   "metadata": {},
   "outputs": [],
   "source": []
  },
  {
   "cell_type": "code",
   "execution_count": null,
   "id": "a7647026-14fe-4097-ad3e-64a8029f1146",
   "metadata": {},
   "outputs": [],
   "source": []
  },
  {
   "cell_type": "code",
   "execution_count": null,
   "id": "090cc065-15e7-4a6e-b260-90acbd67a7cb",
   "metadata": {},
   "outputs": [],
   "source": []
  },
  {
   "cell_type": "code",
   "execution_count": null,
   "id": "48eb5a7c-03a7-4953-bc6e-d151c9d75038",
   "metadata": {},
   "outputs": [],
   "source": []
  }
 ],
 "metadata": {
  "kernelspec": {
   "display_name": "Python 3 (ipykernel)",
   "language": "python",
   "name": "python3"
  },
  "language_info": {
   "codemirror_mode": {
    "name": "ipython",
    "version": 3
   },
   "file_extension": ".py",
   "mimetype": "text/x-python",
   "name": "python",
   "nbconvert_exporter": "python",
   "pygments_lexer": "ipython3",
   "version": "3.8.10"
  },
  "widgets": {
   "application/vnd.jupyter.widget-state+json": {
    "state": {},
    "version_major": 2,
    "version_minor": 0
   }
  }
 },
 "nbformat": 4,
 "nbformat_minor": 5
}
