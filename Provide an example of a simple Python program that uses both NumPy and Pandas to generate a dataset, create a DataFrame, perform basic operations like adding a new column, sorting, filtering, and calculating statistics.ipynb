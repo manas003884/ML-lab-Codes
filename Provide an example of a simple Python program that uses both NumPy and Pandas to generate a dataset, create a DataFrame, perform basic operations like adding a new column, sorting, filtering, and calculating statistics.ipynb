{
 "cells": [
  {
   "cell_type": "code",
   "execution_count": null,
   "id": "df7b25b4-c3ed-4723-9f7b-31013dcd2a02",
   "metadata": {},
   "outputs": [],
   "source": []
  }
 ],
 "metadata": {
  "kernelspec": {
   "display_name": "",
   "name": ""
  },
  "language_info": {
   "name": ""
  },
  "widgets": {
   "application/vnd.jupyter.widget-state+json": {
    "state": {},
    "version_major": 2,
    "version_minor": 0
   }
  }
 },
 "nbformat": 4,
 "nbformat_minor": 5
}
