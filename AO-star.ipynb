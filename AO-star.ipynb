{
 "cells": [
  {
   "cell_type": "code",
   "execution_count": 6,
   "id": "b378e179-5fb6-4769-9077-82dcc01ded96",
   "metadata": {},
   "outputs": [
    {
     "name": "stdout",
     "output_type": "stream",
     "text": [
      "The optimal cost to solve the And-Or graph is: 3\n"
     ]
    }
   ],
   "source": [
    "class Node:\n",
    "    def __init__(self, name, cost=0, is_and_node=False):\n",
    "        self.name = name  \n",
    "        self.cost = cost  \n",
    "        self.is_and_node = is_and_node  \n",
    "        self.children = []  \n",
    "    \n",
    "    def add_child(self, child_node):\n",
    "        self.children.append(child_node)  \n",
    "\n",
    "def ao_star_search(node):\n",
    "    if not node.children:\n",
    "        return node.cost  \n",
    "    \n",
    "    total_cost = 0\n",
    "    \n",
    "    if node.is_and_node:\n",
    "        \n",
    "        for child in node.children:\n",
    "            total_cost += ao_star_search(child)\n",
    "        total_cost += node.cost  \n",
    "    else:\n",
    "        \n",
    "        min_cost = float('inf')\n",
    "        for child in node.children:\n",
    "            child_cost = ao_star_search(child)\n",
    "            min_cost = min(min_cost, child_cost)\n",
    "        total_cost = min_cost + node.cost  # Add the cost of the current node\n",
    "    \n",
    "    return total_cost\n",
    "\n",
    "# And-Or graph construction\n",
    "# A is an Or node, B and C are And nodes, D and E are leaf nodes\n",
    "A = Node('A', 0, is_and_node=False)\n",
    "B = Node('B', 2, is_and_node=True)\n",
    "C = Node('C', 3, is_and_node=True)\n",
    "D = Node('D', 1, is_and_node=False)\n",
    "E = Node('E', 4, is_and_node=False)\n",
    "\n",
    "# graph\n",
    "A.add_child(B)\n",
    "A.add_child(C)\n",
    "B.add_child(D)\n",
    "B.add_child(E)\n",
    "\n",
    "\n",
    "optimal_cost = ao_star_search(A)\n",
    "\n",
    "print(f\"The optimal cost to solve the And-Or graph is: {optimal_cost}\")\n"
   ]
  },
  {
   "cell_type": "code",
   "execution_count": null,
   "id": "5ad714bd-3572-45fb-96ad-cd4a27ba8d83",
   "metadata": {},
   "outputs": [],
   "source": []
  }
 ],
 "metadata": {
  "kernelspec": {
   "display_name": "Python 3 (ipykernel)",
   "language": "python",
   "name": "python3"
  },
  "language_info": {
   "codemirror_mode": {
    "name": "ipython",
    "version": 3
   },
   "file_extension": ".py",
   "mimetype": "text/x-python",
   "name": "python",
   "nbconvert_exporter": "python",
   "pygments_lexer": "ipython3",
   "version": "3.8.10"
  },
  "widgets": {
   "application/vnd.jupyter.widget-state+json": {
    "state": {},
    "version_major": 2,
    "version_minor": 0
   }
  }
 },
 "nbformat": 4,
 "nbformat_minor": 5
}
