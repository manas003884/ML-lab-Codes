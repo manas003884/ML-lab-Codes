{
 "cells": [
  {
   "cell_type": "code",
   "execution_count": 1,
   "id": "f4367e05-bf75-4217-99d5-ce447ce32f09",
   "metadata": {},
   "outputs": [
    {
     "name": "stdout",
     "output_type": "stream",
     "text": [
      "Cost from start to each node: {'A': 0, 'B': 1, 'C': 3, 'D': 4}\n",
      "Path from start to goal: ['A', 'B', 'C', 'D']\n"
     ]
    }
   ],
   "source": [
    "#uniform cost search\n",
    "import heapq\n",
    "\n",
    "def uniform_cost_search(graph, start, goal):\n",
    "    priority_queue = []\n",
    "    heapq.heappush(priority_queue, (0, start))\n",
    "    visited = set()\n",
    "    cost = {start: 0}\n",
    "    parent = {start: None}\n",
    "\n",
    "    while priority_queue:\n",
    "        current_cost, current_node = heapq.heappop(priority_queue)\n",
    "\n",
    "        if current_node in visited:\n",
    "            continue\n",
    "\n",
    "        visited.add(current_node)\n",
    "\n",
    "        if current_node == goal:\n",
    "            break\n",
    "\n",
    "        for neighbor, weight in graph[current_node].items():\n",
    "            new_cost = current_cost + weight\n",
    "            if neighbor not in cost or new_cost < cost[neighbor]:\n",
    "                cost[neighbor] = new_cost\n",
    "                heapq.heappush(priority_queue, (new_cost, neighbor))\n",
    "                parent[neighbor] = current_node\n",
    "\n",
    "    return cost, parent\n",
    "\n",
    "def reconstruct_path(parent, start, goal):\n",
    "    path = []\n",
    "    current_node = goal\n",
    "    while current_node is not None:\n",
    "        path.append(current_node)\n",
    "        current_node = parent[current_node]\n",
    "    path.reverse()\n",
    "    return path\n",
    "\n",
    "# Example usage:\n",
    "graph = {\n",
    "    'A': {'B': 1, 'C': 4},\n",
    "    'B': {'A': 1, 'C': 2, 'D': 5},\n",
    "    'C': {'A': 4, 'B': 2, 'D': 1},\n",
    "    'D': {'B': 5, 'C': 1}\n",
    "}\n",
    "\n",
    "start = 'A'\n",
    "goal = 'D'\n",
    "cost, parent = uniform_cost_search(graph, start, goal)\n",
    "path = reconstruct_path(parent, start, goal)\n",
    "\n",
    "print(\"Cost from start to each node:\", cost)\n",
    "print(\"Path from start to goal:\", path)\n"
   ]
  },
  {
   "cell_type": "code",
   "execution_count": null,
   "id": "c59c2080-b0a7-4cdd-80a0-cac64c899e47",
   "metadata": {},
   "outputs": [],
   "source": []
  }
 ],
 "metadata": {
  "kernelspec": {
   "display_name": "Python 3 (ipykernel)",
   "language": "python",
   "name": "python3"
  },
  "language_info": {
   "codemirror_mode": {
    "name": "ipython",
    "version": 3
   },
   "file_extension": ".py",
   "mimetype": "text/x-python",
   "name": "python",
   "nbconvert_exporter": "python",
   "pygments_lexer": "ipython3",
   "version": "3.8.10"
  },
  "widgets": {
   "application/vnd.jupyter.widget-state+json": {
    "state": {},
    "version_major": 2,
    "version_minor": 0
   }
  }
 },
 "nbformat": 4,
 "nbformat_minor": 5
}
