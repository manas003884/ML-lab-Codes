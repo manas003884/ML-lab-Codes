{
 "cells": [
  {
   "cell_type": "markdown",
   "id": "5b75e7ef-5cbd-4357-82a1-1e0bae2db479",
   "metadata": {},
   "source": [
    "Implement a simple 3-layer neural network from scratch using Python and numpy. The network should have 2 input neurons, 2 hidden neurons, and 1 output neuron, using the sigmoid activation for both hidden and output layers. Train it on the XOR dataset using backpropagation for 100 epochs, printing the loss every 10 epochs. After training, print\n",
    "the predicted outputs for the XOR inputs"
   ]
  },
  {
   "cell_type": "code",
   "execution_count": 1,
   "id": "b0d931a8-2923-4a1e-8053-12c6bcae72b3",
   "metadata": {},
   "outputs": [],
   "source": [
    "import numpy as np\n",
    "import pandas as pd\n"
   ]
  },
  {
   "cell_type": "code",
   "execution_count": 4,
   "id": "61bf6860-de7a-41ee-87fe-05716568c4cd",
   "metadata": {},
   "outputs": [
    {
     "data": {
      "text/html": [
       "<div>\n",
       "<style scoped>\n",
       "    .dataframe tbody tr th:only-of-type {\n",
       "        vertical-align: middle;\n",
       "    }\n",
       "\n",
       "    .dataframe tbody tr th {\n",
       "        vertical-align: top;\n",
       "    }\n",
       "\n",
       "    .dataframe thead th {\n",
       "        text-align: right;\n",
       "    }\n",
       "</style>\n",
       "<table border=\"1\" class=\"dataframe\">\n",
       "  <thead>\n",
       "    <tr style=\"text-align: right;\">\n",
       "      <th></th>\n",
       "      <th>X</th>\n",
       "      <th>Y</th>\n",
       "      <th>Z</th>\n",
       "    </tr>\n",
       "  </thead>\n",
       "  <tbody>\n",
       "    <tr>\n",
       "      <th>0</th>\n",
       "      <td>0</td>\n",
       "      <td>0</td>\n",
       "      <td>0</td>\n",
       "    </tr>\n",
       "    <tr>\n",
       "      <th>1</th>\n",
       "      <td>0</td>\n",
       "      <td>1</td>\n",
       "      <td>1</td>\n",
       "    </tr>\n",
       "    <tr>\n",
       "      <th>2</th>\n",
       "      <td>1</td>\n",
       "      <td>1</td>\n",
       "      <td>0</td>\n",
       "    </tr>\n",
       "    <tr>\n",
       "      <th>3</th>\n",
       "      <td>1</td>\n",
       "      <td>1</td>\n",
       "      <td>0</td>\n",
       "    </tr>\n",
       "    <tr>\n",
       "      <th>4</th>\n",
       "      <td>0</td>\n",
       "      <td>0</td>\n",
       "      <td>0</td>\n",
       "    </tr>\n",
       "    <tr>\n",
       "      <th>...</th>\n",
       "      <td>...</td>\n",
       "      <td>...</td>\n",
       "      <td>...</td>\n",
       "    </tr>\n",
       "    <tr>\n",
       "      <th>9995</th>\n",
       "      <td>0</td>\n",
       "      <td>0</td>\n",
       "      <td>0</td>\n",
       "    </tr>\n",
       "    <tr>\n",
       "      <th>9996</th>\n",
       "      <td>0</td>\n",
       "      <td>1</td>\n",
       "      <td>1</td>\n",
       "    </tr>\n",
       "    <tr>\n",
       "      <th>9997</th>\n",
       "      <td>1</td>\n",
       "      <td>1</td>\n",
       "      <td>0</td>\n",
       "    </tr>\n",
       "    <tr>\n",
       "      <th>9998</th>\n",
       "      <td>1</td>\n",
       "      <td>1</td>\n",
       "      <td>0</td>\n",
       "    </tr>\n",
       "    <tr>\n",
       "      <th>9999</th>\n",
       "      <td>1</td>\n",
       "      <td>1</td>\n",
       "      <td>0</td>\n",
       "    </tr>\n",
       "  </tbody>\n",
       "</table>\n",
       "<p>10000 rows × 3 columns</p>\n",
       "</div>"
      ],
      "text/plain": [
       "      X  Y  Z\n",
       "0     0  0  0\n",
       "1     0  1  1\n",
       "2     1  1  0\n",
       "3     1  1  0\n",
       "4     0  0  0\n",
       "...  .. .. ..\n",
       "9995  0  0  0\n",
       "9996  0  1  1\n",
       "9997  1  1  0\n",
       "9998  1  1  0\n",
       "9999  1  1  0\n",
       "\n",
       "[10000 rows x 3 columns]"
      ]
     },
     "execution_count": 4,
     "metadata": {},
     "output_type": "execute_result"
    }
   ],
   "source": [
    "data = pd.read_csv(\"Xor_Dataset.csv\")\n",
    "data\n"
   ]
  },
  {
   "cell_type": "code",
   "execution_count": 5,
   "id": "244456fa-9004-4702-b576-a42d76250960",
   "metadata": {},
   "outputs": [
    {
     "data": {
      "text/plain": [
       "['X', 'Y', 'Z']"
      ]
     },
     "execution_count": 5,
     "metadata": {},
     "output_type": "execute_result"
    }
   ],
   "source": [
    "data.columns.tolist()"
   ]
  },
  {
   "cell_type": "code",
   "execution_count": 6,
   "id": "61753a62-bafe-4516-a340-83a7521922dd",
   "metadata": {},
   "outputs": [],
   "source": [
    "X = data[['X', 'Y']].values  # Input features from columns 'X' and 'Y'\n",
    "y = data[['Z']].values"
   ]
  },
  {
   "cell_type": "code",
   "execution_count": 12,
   "id": "f10ea400-0568-4b97-9d85-7271537d7019",
   "metadata": {},
   "outputs": [],
   "source": [
    "def sigmoid(x):\n",
    "    return 1 / (1 + np.exp(-x))\n",
    "\n",
    "def sigmoid_derivative(x):\n",
    "    return x * (1 - x)\n",
    "\n",
    "def relu(x):\n",
    "    return np.maximum(0, x)\n",
    "\n",
    "def relu_derivative(x):\n",
    "    return np.where(x > 0, 1, 0)"
   ]
  },
  {
   "cell_type": "code",
   "execution_count": 8,
   "id": "a02b51d3-fb75-4d8c-89c4-56c78707ea58",
   "metadata": {},
   "outputs": [],
   "source": [
    "input_neurons = 2    # Input layer\n",
    "hidden_neurons = 2   # Hidden layer\n",
    "output_neurons = 1   # Output layer\n",
    "learning_rate = 0.1\n",
    "epochs = 100"
   ]
  },
  {
   "cell_type": "code",
   "execution_count": 9,
   "id": "28831993-60df-46d9-a994-e3b8dcf9d945",
   "metadata": {},
   "outputs": [],
   "source": [
    "# Weight and bias initialization\n",
    "np.random.seed(0)  \n",
    "weights_input_hidden = np.random.uniform(size=(input_neurons, hidden_neurons))\n",
    "weights_hidden_output = np.random.uniform(size=(hidden_neurons, output_neurons))\n",
    "bias_hidden = np.random.uniform(size=(1, hidden_neurons))\n",
    "bias_output = np.random.uniform(size=(1, output_neurons))"
   ]
  },
  {
   "cell_type": "code",
   "execution_count": 13,
   "id": "416faf7b-af5a-4a84-a4ff-1f658db4d9e8",
   "metadata": {},
   "outputs": [
    {
     "name": "stdout",
     "output_type": "stream",
     "text": [
      "Epoch 10/100, Loss: 0.5048\n",
      "Epoch 20/100, Loss: 0.5048\n",
      "Epoch 30/100, Loss: 0.5048\n",
      "Epoch 40/100, Loss: 0.5048\n",
      "Epoch 50/100, Loss: 0.5048\n",
      "Epoch 60/100, Loss: 0.5048\n",
      "Epoch 70/100, Loss: 0.5048\n",
      "Epoch 80/100, Loss: 0.5048\n",
      "Epoch 90/100, Loss: 0.5048\n",
      "Epoch 100/100, Loss: 0.5048\n"
     ]
    }
   ],
   "source": [
    "for epoch in range(epochs):\n",
    "    \n",
    "    hidden_layer_input = np.dot(X, weights_input_hidden) + bias_hidden\n",
    "    hidden_layer_output = relu(hidden_layer_input)  \n",
    "    \n",
    "    final_layer_input = np.dot(hidden_layer_output, weights_hidden_output) + bias_output\n",
    "    predicted_output = sigmoid(final_layer_input)  \n",
    "    \n",
    "    \n",
    "    loss = np.mean((y - predicted_output) ** 2)\n",
    "    \n",
    "    \n",
    "    error_output = y - predicted_output\n",
    "    delta_output = error_output * sigmoid_derivative(predicted_output)\n",
    "    \n",
    "    error_hidden_layer = delta_output.dot(weights_hidden_output.T)\n",
    "    delta_hidden_layer = error_hidden_layer * relu_derivative(hidden_layer_output)\n",
    "    \n",
    "    \n",
    "    weights_hidden_output += hidden_layer_output.T.dot(delta_output) * learning_rate\n",
    "    weights_input_hidden += X.T.dot(delta_hidden_layer) * learning_rate\n",
    "    bias_output += np.sum(delta_output, axis=0, keepdims=True) * learning_rate\n",
    "    bias_hidden += np.sum(delta_hidden_layer, axis=0, keepdims=True) * learning_rate\n",
    "    \n",
    "    \n",
    "    if (epoch + 1) % 10 == 0:\n",
    "        print(f\"Epoch {epoch + 1}/{epochs}, Loss: {loss:.4f}\")\n"
   ]
  },
  {
   "cell_type": "code",
   "execution_count": 14,
   "id": "caee4d7b-430f-4bb8-893c-52297c51aa7d",
   "metadata": {},
   "outputs": [
    {
     "name": "stdout",
     "output_type": "stream",
     "text": [
      "\n",
      "Predicted outputs after training:\n",
      "[[3.74327234e-19]\n",
      " [3.74327234e-19]\n",
      " [3.74327234e-19]\n",
      " ...\n",
      " [3.74327234e-19]\n",
      " [3.74327234e-19]\n",
      " [3.74327234e-19]]\n"
     ]
    }
   ],
   "source": [
    "print(\"\\nPredicted outputs after training:\")\n",
    "print(predicted_output)"
   ]
  },
  {
   "cell_type": "code",
   "execution_count": null,
   "id": "0e5ab476-89e8-415a-b061-e5d3018d9a32",
   "metadata": {},
   "outputs": [],
   "source": []
  },
  {
   "cell_type": "code",
   "execution_count": null,
   "id": "83f880d4-57d1-4dc9-948a-51242ad8dc1c",
   "metadata": {},
   "outputs": [],
   "source": []
  }
 ],
 "metadata": {
  "kernelspec": {
   "display_name": "Python 3 (ipykernel)",
   "language": "python",
   "name": "python3"
  },
  "language_info": {
   "codemirror_mode": {
    "name": "ipython",
    "version": 3
   },
   "file_extension": ".py",
   "mimetype": "text/x-python",
   "name": "python",
   "nbconvert_exporter": "python",
   "pygments_lexer": "ipython3",
   "version": "3.8.10"
  },
  "widgets": {
   "application/vnd.jupyter.widget-state+json": {
    "state": {},
    "version_major": 2,
    "version_minor": 0
   }
  }
 },
 "nbformat": 4,
 "nbformat_minor": 5
}
