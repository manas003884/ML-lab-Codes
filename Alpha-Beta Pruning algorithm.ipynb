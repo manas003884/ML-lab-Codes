{
 "cells": [
  {
   "cell_type": "code",
   "execution_count": 2,
   "id": "95dd6903-12d1-41e6-9f21-a9f1c18dd221",
   "metadata": {},
   "outputs": [
    {
     "name": "stdin",
     "output_type": "stream",
     "text": [
      "Enter the depth of the game tree:  3\n",
      "Enter the leaf node values separated by spaces:  3 5 6 9 1 2 0 -1\n"
     ]
    },
    {
     "name": "stdout",
     "output_type": "stream",
     "text": [
      "The optimal value is: 5\n"
     ]
    }
   ],
   "source": [
    "import math\n",
    "\n",
    "def minimax(depth, nodeIndex, maximizingPlayer, values, alpha, beta, maxDepth):\n",
    "    if depth == maxDepth:\n",
    "        return values[nodeIndex]\n",
    "\n",
    "    if maximizingPlayer:\n",
    "        maxEval = -math.inf\n",
    "        for i in range(2):\n",
    "            eval = minimax(depth + 1, nodeIndex * 2 + i, False, values, alpha, beta, maxDepth)\n",
    "            maxEval = max(maxEval, eval)\n",
    "            alpha = max(alpha, eval)\n",
    "            if beta <= alpha:\n",
    "                break\n",
    "        return maxEval\n",
    "    else:\n",
    "        minEval = math.inf\n",
    "        for i in range(2):\n",
    "            eval = minimax(depth + 1, nodeIndex * 2 + i, True, values, alpha, beta, maxDepth)\n",
    "            minEval = min(minEval, eval)\n",
    "            beta = min(beta, eval)\n",
    "            if beta <= alpha:\n",
    "                break\n",
    "        return minEval\n",
    "\n",
    "# Get depth and values from user\n",
    "maxDepth = int(input(\"Enter the depth of the game tree: \"))\n",
    "values = list(map(int, input(\"Enter the leaf node values separated by spaces: \").replace(',', ' ').split()))\n",
    "\n",
    "alpha = -10000\n",
    "beta = 10000\n",
    "print(\"The optimal value is:\", minimax(0, 0, True, values, alpha, beta, maxDepth))\n"
   ]
  },
  {
   "cell_type": "code",
   "execution_count": null,
   "id": "eb099292-5858-4b5f-ae51-1234330ba6b1",
   "metadata": {},
   "outputs": [],
   "source": []
  }
 ],
 "metadata": {
  "kernelspec": {
   "display_name": "Python 3 (ipykernel)",
   "language": "python",
   "name": "python3"
  },
  "language_info": {
   "codemirror_mode": {
    "name": "ipython",
    "version": 3
   },
   "file_extension": ".py",
   "mimetype": "text/x-python",
   "name": "python",
   "nbconvert_exporter": "python",
   "pygments_lexer": "ipython3",
   "version": "3.8.10"
  },
  "widgets": {
   "application/vnd.jupyter.widget-state+json": {
    "state": {},
    "version_major": 2,
    "version_minor": 0
   }
  }
 },
 "nbformat": 4,
 "nbformat_minor": 5
}
