{
 "cells": [
  {
   "cell_type": "code",
   "execution_count": 5,
   "id": "98409b06-0632-4c9b-9d26-f9f536f18d5d",
   "metadata": {},
   "outputs": [
    {
     "name": "stdout",
     "output_type": "stream",
     "text": [
      "A B C D F E "
     ]
    }
   ],
   "source": [
    "#BFS\n",
    "from collections import deque\n",
    "\n",
    "def bfs_graph(graph, start):\n",
    "    visited = set()          \n",
    "    queue = deque([start])   \n",
    "    \n",
    "    while queue:\n",
    "        node = queue.popleft()  \n",
    "        if node not in visited:\n",
    "            visited.add(node)    \n",
    "            print(node, end=' ')  \n",
    "            \n",
    "            # Enqueue all unvisited neighbors\n",
    "            for neighbor in graph[node]:\n",
    "                if neighbor not in visited:\n",
    "                    queue.append(neighbor)\n",
    "\n",
    "\n",
    "graph = {\n",
    "    'A': ['B', 'C'],\n",
    "    'B': ['A', 'D', 'C'],\n",
    "    'C': ['A', 'F'],\n",
    "    'E': ['B'],\n",
    "    'D': ['B', 'F'],\n",
    "    'F': ['C', 'E']\n",
    "}\n",
    "\n",
    "\n",
    "bfs_graph(graph, 'A')\n"
   ]
  },
  {
   "cell_type": "code",
   "execution_count": 6,
   "id": "b392d3c1-82ca-4ae0-a43c-b66d3d90cf9d",
   "metadata": {},
   "outputs": [
    {
     "name": "stdout",
     "output_type": "stream",
     "text": [
      "DFS Traversal (Graph):\n",
      "A B D E F C "
     ]
    }
   ],
   "source": [
    "#DFS\n",
    "def dfs_graph(graph, start, visited=None):\n",
    "    if visited is None:\n",
    "        visited = set()  \n",
    "    \n",
    "    visited.add(start)  \n",
    "    print(start, end=' ')  \n",
    "    \n",
    "    \n",
    "    for neighbor in graph[start]:\n",
    "        if neighbor not in visited:\n",
    "            dfs_graph(graph, neighbor, visited)\n",
    "\n",
    "\n",
    "graph = {\n",
    "    'A': ['B', 'C'],\n",
    "    'B': ['A', 'D', 'E'],\n",
    "    'C': ['A', 'F'],\n",
    "    'D': ['B'],\n",
    "    'E': ['B', 'F'],\n",
    "    'F': ['C', 'E']\n",
    "}\n",
    "\n",
    "\n",
    "print(\"DFS Traversal (Graph):\")\n",
    "dfs_graph(graph, 'A')\n"
   ]
  },
  {
   "cell_type": "code",
   "execution_count": null,
   "id": "0af40591-0eea-4ce0-99dd-fc91217b9c33",
   "metadata": {},
   "outputs": [],
   "source": []
  }
 ],
 "metadata": {
  "kernelspec": {
   "display_name": "Python 3 (ipykernel)",
   "language": "python",
   "name": "python3"
  },
  "language_info": {
   "codemirror_mode": {
    "name": "ipython",
    "version": 3
   },
   "file_extension": ".py",
   "mimetype": "text/x-python",
   "name": "python",
   "nbconvert_exporter": "python",
   "pygments_lexer": "ipython3",
   "version": "3.8.10"
  },
  "widgets": {
   "application/vnd.jupyter.widget-state+json": {
    "state": {},
    "version_major": 2,
    "version_minor": 0
   }
  }
 },
 "nbformat": 4,
 "nbformat_minor": 5
}
